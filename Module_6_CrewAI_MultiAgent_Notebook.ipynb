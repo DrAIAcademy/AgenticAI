{
 "cells": [
  {
   "cell_type": "markdown",
   "id": "6b17926f",
   "metadata": {},
   "source": [
    "# 🤖 Module 6: Multi-Agent Systems with CrewAI\n",
    "In this notebook, you'll learn how to orchestrate multiple AI agents using the **CrewAI** framework."
   ]
  },
  {
   "cell_type": "markdown",
   "id": "d76e0a56",
   "metadata": {},
   "source": [
    "## 🛠️ Step 1: Install Required Libraries"
   ]
  },
  {
   "cell_type": "code",
   "execution_count": null,
   "id": "8a1f153c",
   "metadata": {},
   "outputs": [],
   "source": [
    "!pip install crewai openai"
   ]
  },
  {
   "cell_type": "markdown",
   "id": "fb7dd84e",
   "metadata": {},
   "source": [
    "## 🔐 Step 2: Set OpenAI API Key"
   ]
  },
  {
   "cell_type": "code",
   "execution_count": null,
   "id": "d8a8e61f",
   "metadata": {},
   "outputs": [],
   "source": [
    "import os\n",
    "os.environ['OPENAI_API_KEY'] = 'your-api-key-here'"
   ]
  },
  {
   "cell_type": "markdown",
   "id": "680fba34",
   "metadata": {},
   "source": [
    "## 🧠 Step 3: Define Agents"
   ]
  },
  {
   "cell_type": "code",
   "execution_count": null,
   "id": "f700313c",
   "metadata": {},
   "outputs": [],
   "source": [
    "from crewai import Agent\n",
    "\n",
    "# Define your agents\n",
    "researcher = Agent(\n",
    "    name='Researcher',\n",
    "    goal='Find insights about the latest trends in AI',\n",
    "    verbose=True\n",
    ")\n",
    "\n",
    "writer = Agent(\n",
    "    name='Writer',\n",
    "    goal='Draft a short summary report based on AI insights',\n",
    "    verbose=True\n",
    ")"
   ]
  },
  {
   "cell_type": "markdown",
   "id": "0cbd0d65",
   "metadata": {},
   "source": [
    "## 🗂️ Step 4: Assign Tasks to Agents"
   ]
  },
  {
   "cell_type": "code",
   "execution_count": null,
   "id": "742ede63",
   "metadata": {},
   "outputs": [],
   "source": [
    "from crewai import Task\n",
    "\n",
    "task1 = Task(\n",
    "    agent=researcher,\n",
    "    description='Research the top 3 current AI trends in 2025 and summarize key points.'\n",
    ")\n",
    "\n",
    "task2 = Task(\n",
    "    agent=writer,\n",
    "    description='Write a report from the findings presented by the researcher.'\n",
    ")"
   ]
  },
  {
   "cell_type": "markdown",
   "id": "9b79b675",
   "metadata": {},
   "source": [
    "## 🚀 Step 5: Run the Multi-Agent Crew"
   ]
  },
  {
   "cell_type": "code",
   "execution_count": null,
   "id": "d62524d0",
   "metadata": {},
   "outputs": [],
   "source": [
    "from crewai import Crew\n",
    "\n",
    "crew = Crew(\n",
    "    agents=[researcher, writer],\n",
    "    tasks=[task1, task2]\n",
    ")\n",
    "\n",
    "result = crew.kickoff()\n",
    "print(result)"
   ]
  },
  {
   "cell_type": "markdown",
   "id": "40e6c076",
   "metadata": {},
   "source": [
    "## ✅ Congratulations!\n",
    "You've now successfully built and executed a simple multi-agent system using **CrewAI**.\n",
    "\n",
    "You can expand this system by:\n",
    "- Adding more agents (like reviewers or designers)\n",
    "- Integrating APIs and tools\n",
    "- Defining complex pipelines\n",
    "\n",
    "The future of AI is collaborative 🤝"
   ]
  }
 ],
 "metadata": {},
 "nbformat": 4,
 "nbformat_minor": 5
}