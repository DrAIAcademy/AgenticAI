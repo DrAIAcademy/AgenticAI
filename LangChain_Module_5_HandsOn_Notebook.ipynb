{
 "cells": [
  {
   "cell_type": "markdown",
   "id": "c477d600",
   "metadata": {},
   "source": [
    "# 🧠 Module 5: Hands-On with LangChain Agents\n",
    "This notebook will guide you through setting up and using LangChain to create a ReAct-based intelligent agent with memory and tool integration."
   ]
  },
  {
   "cell_type": "markdown",
   "id": "1cb3eab1",
   "metadata": {},
   "source": [
    "## 🔧 Step 1: Install Required Packages"
   ]
  },
  {
   "cell_type": "code",
   "execution_count": null,
   "id": "ab7f2e5f",
   "metadata": {},
   "outputs": [],
   "source": [
    "!pip install langchain openai faiss-cpu tiktoken"
   ]
  },
  {
   "cell_type": "markdown",
   "id": "17618fc4",
   "metadata": {},
   "source": [
    "## 🔑 Step 2: Set Up OpenAI API Key\n",
    "Replace `'your-api-key-here'` with your actual OpenAI API key."
   ]
  },
  {
   "cell_type": "code",
   "execution_count": null,
   "id": "2bbbbe7f",
   "metadata": {},
   "outputs": [],
   "source": [
    "import os\n",
    "os.environ['OPENAI_API_KEY'] = 'your-api-key-here'"
   ]
  },
  {
   "cell_type": "markdown",
   "id": "3ed8ec65",
   "metadata": {},
   "source": [
    "## 🤖 Step 3: Create a Simple ReAct Agent"
   ]
  },
  {
   "cell_type": "code",
   "execution_count": null,
   "id": "10566555",
   "metadata": {},
   "outputs": [],
   "source": [
    "from langchain.llms import OpenAI\n",
    "from langchain.agents import Tool, initialize_agent\n",
    "\n",
    "# Create a simple tool\n",
    "def my_tool_func(input):\n",
    "    return f\"Processed input: {input}\"\n",
    "\n",
    "my_tool = Tool(\n",
    "    name=\"SimpleTool\",\n",
    "    func=my_tool_func,\n",
    "    description=\"A simple tool that processes input text.\"\n",
    ")\n",
    "\n",
    "# Initialize the LLM and agent\n",
    "llm = OpenAI(temperature=0)\n",
    "agent = initialize_agent([my_tool], llm, agent_type='zero-shot-react-description')\n",
    "# Run the agent\n",
    "agent.run(\"Use SimpleTool to process 'LangChain is powerful'\")"
   ]
  },
  {
   "cell_type": "markdown",
   "id": "ec6d2a5b",
   "metadata": {},
   "source": [
    "## 🧰 Step 4: Toolkits and Integration\n",
    "You can create and integrate custom tools like APIs, file readers, or even calculators."
   ]
  },
  {
   "cell_type": "markdown",
   "id": "ffe1f7ef",
   "metadata": {},
   "source": [
    "## 💾 Step 5: Add Memory to Your Agent"
   ]
  },
  {
   "cell_type": "code",
   "execution_count": null,
   "id": "8e3ca9b2",
   "metadata": {},
   "outputs": [],
   "source": [
    "from langchain.memory import ConversationBufferMemory\n",
    "memory = ConversationBufferMemory()\n",
    "\n",
    "# Memory is not connected to the agent in this demo, but it can be added for chatbots or assistants."
   ]
  },
  {
   "cell_type": "markdown",
   "id": "d3fb8d28",
   "metadata": {},
   "source": [
    "## 📚 Step 6: Use Vector Database for Long-Term Memory"
   ]
  },
  {
   "cell_type": "code",
   "execution_count": null,
   "id": "b645efcd",
   "metadata": {},
   "outputs": [],
   "source": [
    "from langchain.vectorstores import FAISS\n",
    "from langchain.embeddings.openai import OpenAIEmbeddings\n",
    "\n",
    "texts = [\"LangChain is amazing\", \"Agents are smart\"]\n",
    "embeddings = OpenAIEmbeddings()\n",
    "vectorstore = FAISS.from_texts(texts, embedding=embeddings)\n",
    "retrieved_docs = vectorstore.similarity_search(\"Tell me about LangChain\")\n",
    "retrieved_docs"
   ]
  },
  {
   "cell_type": "markdown",
   "id": "a9a69526",
   "metadata": {},
   "source": [
    "## 🔁 Step 7: Agent Executor Flow Explained\n",
    "LangChain handles a loop:\n",
    "1. Receives a goal\n",
    "2. LLM decides the next step\n",
    "3. Executes tool\n",
    "4. Feeds result back\n",
    "5. Continues until goal is met or max steps reached"
   ]
  },
  {
   "cell_type": "markdown",
   "id": "aabfe002",
   "metadata": {},
   "source": [
    "## ✅ You Did It!\n",
    "You now have a working LangChain agent with tool integration and memory setup. You can build on this to create research bots, personal assistants, or autonomous workflows."
   ]
  }
 ],
 "metadata": {},
 "nbformat": 4,
 "nbformat_minor": 5
}